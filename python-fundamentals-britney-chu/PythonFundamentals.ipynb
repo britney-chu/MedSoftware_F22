{
 "cells": [
  {
   "cell_type": "markdown",
   "metadata": {},
   "source": [
    "# Python Fundamentals\n",
    "In this notebook, we are going to cover some additional information on Python.\n",
    "\n",
    "## Online Learning Resources\n",
    "There are **many** online resources to learn Python, including great online\n",
    "courses through LinkedIn Learning (accessible for free through Duke), CodeAcademy, etc.\n",
    "Many of these resources are listed in the BME 547 GitHub Repository on the page\n",
    "<https://github.com/dward2/BME547/blob/main/Resources/python.md>.\n",
    "\n",
    "Two great resources for quick reference to work through:\n",
    "* [Playground and Cheatsheet for Learning Python](https://github.com/trekhleb/learn-python\n",
    "created by GitHub user [trekhleb](https://github.com/trekhleb)                                                                 \n",
    "* [LearnXinYMinutes for Python3](https://learnxinyminutes.com/docs/python3/)\n",
    "\n",
    "If you are new to Python, you are strongly encouraged to work through some of \n",
    "these tutorials."
   ]
  },
  {
   "cell_type": "markdown",
   "metadata": {},
   "source": [
    "## Markdown\n",
    "While not Python, we will be using Markdown langauge for documenting our README.md files\n",
    "for our assignment repositories.  So, I want to cover more on using Markdown.\n",
    "\n",
    "The \"text\" sections of this Jupyter notebook are written in Markdown.  Markdown interprets \n",
    "specific syntax and symbols in a plain text file and renders it in Markdown format on the screen. \n",
    "_If you double click on this cell, you will see the raw text file that is rendered into the\n",
    "Markdown that you see on the screen. When finished, you can enter `Ctrl-Enter` in order to\n",
    "return to the rendered Markdown._\n",
    "\n",
    "Markdown will let you create hierarchical headings, *emphasized text*,\n",
    "**bold text**, and can even render $\\LaTeX$ formatting to render equations\n",
    "like $y = x^2$ easily.  Code examples \n",
    "can be included in markdown.  It is included\n",
    "in-line by using a single back-tick(\\`) to start and end it.\n",
    "Example: `print(x)`.  Or, you can create a code block by using three consecutive\n",
    "back ticks to start and end the code block.\n",
    "\n",
    "Example:\n",
    "```\n",
    "x = 5\n",
    "y = 5**2\n",
    "print(\"The square of {} is {}\".format(x, y))\n",
    "```\n",
    "\n",
    "__Double click on this cell to see the syntax to create the Markdown formatting as \n",
    "described above.  Enter `Ctrl-Enter` when finished.__\n"
   ]
  },
  {
   "cell_type": "markdown",
   "metadata": {},
   "source": [
    "### TASK #1\n",
    "Double-click the cell below that is titled \"Task #1 Entry Cell\".  To that cell,\n",
    "add content in Markdown that demonstrates the following:\n",
    "* A subheading named `I did this!`\n",
    "* Your Name in **bold**\n",
    "* The Pythagorean theorem in LaTeX, in terms of the classic variables,\n",
    "$a$, $b$ and $c$.\n",
    "* Write a short code block (within the markdown cell below, not in its own code cell) as documentation that shows how you would print `Hello World` in Python.\n",
    "\n",
    "You will need to hit `Ctrl-Enter` to execute the cell (in this case,\n",
    "interpreting and rendering the Markdown output)."
   ]
  },
  {
   "cell_type": "markdown",
   "metadata": {},
   "source": [
    "### Task #1 Entry Cell\n",
    "#### I did this!\n",
    "**Britney Chu**\n",
    "\n",
    "Pythogorean Theorem: $a^2 + b^2 = c^2$\n",
    "\n",
    "How to print in python:  `print(\"Hello World\")`\n",
    "\n",
    "Double-click this cell to enter you markdown for Task #1"
   ]
  },
  {
   "cell_type": "markdown",
   "metadata": {},
   "source": [
    "## Python Datatypes\n",
    "Python is a dynamically-type language, meaning that Python will assign the data type\n",
    "of a variable at runtime based on the value assigned to the variable.\n",
    "The next cell is a code cell that contains examples of defining variables with different types of values.\n",
    "Python automatically sets the variable type based on the input.  In the cell below, \n",
    "note the use of the `whos` command to inspect the active variable workspace.  \n",
    "\n",
    "Run the next cell to see what types have been assigned to each variable.\n",
    "To execute a code cell, select it and then enter `Ctrl-Enter`.  The results will be\n",
    "printed below the code cell.  Note that if the next cell\n",
    "already has stored output from a previous save (i.e., output printed after the cell), \n",
    "the active Python kernel will\n",
    "not actually have these variables in memory unless you re-execute the cell."
   ]
  },
  {
   "cell_type": "code",
   "execution_count": 1,
   "metadata": {},
   "outputs": [
    {
     "name": "stdout",
     "output_type": "stream",
     "text": [
      "Variable   Type     Data/Info\n",
      "-----------------------------\n",
      "a          int      5\n",
      "b          float    1.2\n",
      "c          str      hello\n",
      "isHappy    bool     True\n"
     ]
    }
   ],
   "source": [
    "a = 5\n",
    "b = 1.2\n",
    "c = 'hello'\n",
    "isHappy = True\n",
    "%whos"
   ]
  },
  {
   "cell_type": "markdown",
   "metadata": {},
   "source": [
    "### TASK #2\n",
    "What do you expect the`Type` of `d` to be in the cell below?  \n",
    "\n",
    "Double-click this cell and add your answer here:   float\n",
    "\n",
    "Then, execute the cell below to confirm your expectation."
   ]
  },
  {
   "cell_type": "code",
   "execution_count": 2,
   "metadata": {},
   "outputs": [
    {
     "name": "stdout",
     "output_type": "stream",
     "text": [
      "Variable   Type     Data/Info\n",
      "-----------------------------\n",
      "a          int      5\n",
      "b          float    1.2\n",
      "c          str      hello\n",
      "d          float    6.2\n",
      "isHappy    bool     True\n"
     ]
    }
   ],
   "source": [
    "d = a + b\n",
    "%whos"
   ]
  },
  {
   "cell_type": "markdown",
   "metadata": {},
   "source": [
    "### `type()` function\n",
    "If you need to know the type of a variable in Python code, you can use the `type()` function as shown in the following code cell.  The result under the \"Type\" column from the code cell above shows some of the commont variable types.  \n",
    "\n",
    "To see how the `type()` function is used, look at and execute the following code cell."
   ]
  },
  {
   "cell_type": "code",
   "execution_count": 3,
   "metadata": {},
   "outputs": [
    {
     "name": "stdout",
     "output_type": "stream",
     "text": [
      "Adding 5 to d yields 11.2\n"
     ]
    }
   ],
   "source": [
    "if type(d) == int or type(d) == float:\n",
    "    e = d + 5\n",
    "    print(\"Adding 5 to d yields {}\".format(e))\n",
    "else:\n",
    "    print(\"d is not an number and so cannot do math\")"
   ]
  },
  {
   "cell_type": "markdown",
   "metadata": {},
   "source": [
    "## Objects\n",
    "All variables in Python are actually *objects*.  You can think of objects as variables that come with\n",
    "associated properties that describe the object and methods that can act on the value of the object.\n",
    "When learning Python, it can\n",
    "be tricky to take advantage of all of these built-in methods, but interactive\n",
    "prompting of available methods can help.\n",
    "\n",
    "In the code cell below type `d.` (note the `.`) followed by `Tab`.  You should be\n",
    "prompted with a list of properties and methods that can be used to describe or manipulate the value of `d`\n",
    "assigned in the cell above.\n",
    "Choose some of these methods and properties and execute the cell to see what the results are.\n",
    "At a minimum, make sure you enter `d.real` and `d.hex`.\n",
    "_(Note: if you enter multiple statements, only the result of the last one will display unless you\n",
    "put each statement in a `print()` function.)_"
   ]
  },
  {
   "cell_type": "code",
   "execution_count": 15,
   "metadata": {},
   "outputs": [
    {
     "data": {
      "text/plain": [
       "False"
      ]
     },
     "execution_count": 15,
     "metadata": {},
     "output_type": "execute_result"
    }
   ],
   "source": [
    "# type `d.` and hit Tab to see all of the methods that are available with this float object\n",
    "d.is_integer()\n"
   ]
  },
  {
   "cell_type": "markdown",
   "metadata": {},
   "source": [
    "You should have seen that the result of `d.real` was `6.2` which represents\n",
    "the real value of the object.  \n",
    "\n",
    "However, the result of `d.hex` might be `<function float.hex()>` or \n",
    "`<built-in method hex of float object at 0x04EBAD40>` (the exact number will vary)\n",
    "depending on your version of Python and Jupyter.<br>\n",
    "\n",
    "`.real` represents a property that describes the object.<br>\n",
    "\n",
    "`.hex` is a method that can be executed on the value.  In python, in order to execute (run) a method, you\n",
    "must include `()` after the method name.  \n",
    "\n",
    "So, go back to the cell above\n",
    "and enter `d.hex()`.  In this case, you should get an output containing\n",
    "the hexadecimal representation of this floating point number.\n",
    "\n",
    "__Side note 1__ If a method requires some sort of input, that would be included inside the parentheses.\n",
    "Function calls also require the use of parentheses.<br>\n",
    "__Side note 2__ What if you put `()` after a property?  Try entering `d.real()` above and see what happens.\n",
    "\n",
    "One method that `d` should have is called `is_integer()`.\n",
    "\n",
    "### TASK #3\n",
    "Create a new cell below this (`Insert -> Insert Cell Below`) and assign the\n",
    "output of `d.is_integer()` to a new variable `is_d_an_int`.  What type is\n",
    "`is_d_an_int`?"
   ]
  },
  {
   "cell_type": "code",
   "execution_count": 17,
   "metadata": {},
   "outputs": [
    {
     "data": {
      "text/plain": [
       "bool"
      ]
     },
     "execution_count": 17,
     "metadata": {},
     "output_type": "execute_result"
    }
   ],
   "source": [
    "is_d_an_int = d.is_integer()\n",
    "type(is_d_an_int)"
   ]
  },
  {
   "cell_type": "markdown",
   "metadata": {},
   "source": [
    "### TASK #4\n",
    "Strings have an impressive number of built-in methods.  Create a new cell below\n",
    "this to explore these methods, demonstrating--at minimum--what\n",
    "`.capitalize()`, `.count()`, `.join()`, and `.startswith()` do."
   ]
  },
  {
   "cell_type": "code",
   "execution_count": 23,
   "metadata": {},
   "outputs": [
    {
     "name": "stdout",
     "output_type": "stream",
     "text": [
      "Hello i am computer\n",
      "3\n",
      "Hello I am Computer\n",
      "True\n"
     ]
    }
   ],
   "source": [
    "tester = \"Hello I am Computer\"\n",
    "print(tester.capitalize())\n",
    "print(tester.count(\" \"))\n",
    "listOfStrings = [\"Hello\", \"I\", \"am\", \"Computer\"]\n",
    "print(\" \".join(listOfStrings))\n",
    "print(tester.startswith(\"Hello\"))\n"
   ]
  },
  {
   "cell_type": "markdown",
   "metadata": {},
   "source": [
    "## Tuples and Lists\n",
    "Python has a variety of built-in datatypes to store collections of data.  Two of the most\n",
    "common are tuples and lists.  Execute the cell below."
   ]
  },
  {
   "cell_type": "code",
   "execution_count": 24,
   "metadata": {},
   "outputs": [
    {
     "name": "stdout",
     "output_type": "stream",
     "text": [
      "<class 'tuple'>\n",
      "1\n"
     ]
    }
   ],
   "source": [
    "my_tuple = (1, 2, 3)\n",
    "print(type(my_tuple))\n",
    "print(my_tuple[0])"
   ]
  },
  {
   "cell_type": "markdown",
   "metadata": {},
   "source": [
    "**Notice that the first index of a list (or tuple or any array) is 0 in Python,\n",
    "not 1!!**  This is based on conventions from C (and many other languages);\n",
    "MATLAB broke from that convention by starting indexing at 1.  Additionally,\n",
    "you access items of a tuple, and other data types, using `[]`, unlike MATLAB that\n",
    "uses `()`.  In Python, `()` is used to call functions and methods."
   ]
  },
  {
   "cell_type": "markdown",
   "metadata": {},
   "source": [
    "### Tuples\n",
    "Tuples are immutable, meaning that we can not reassign values to elements of the tuple\n",
    "once it is created.  Demonstrate this by trying to execute the cell below."
   ]
  },
  {
   "cell_type": "code",
   "execution_count": 25,
   "metadata": {},
   "outputs": [
    {
     "ename": "TypeError",
     "evalue": "'tuple' object does not support item assignment",
     "output_type": "error",
     "traceback": [
      "\u001b[0;31m---------------------------------------------------------------------------\u001b[0m",
      "\u001b[0;31mTypeError\u001b[0m                                 Traceback (most recent call last)",
      "\u001b[0;32m/var/folders/_p/z15crwqx0416m0fbl22d0vb00000gn/T/ipykernel_5087/2725793584.py\u001b[0m in \u001b[0;36m<module>\u001b[0;34m\u001b[0m\n\u001b[0;32m----> 1\u001b[0;31m \u001b[0mmy_tuple\u001b[0m\u001b[0;34m[\u001b[0m\u001b[0;36m1\u001b[0m\u001b[0;34m]\u001b[0m \u001b[0;34m=\u001b[0m \u001b[0;36m5\u001b[0m\u001b[0;34m\u001b[0m\u001b[0;34m\u001b[0m\u001b[0m\n\u001b[0m",
      "\u001b[0;31mTypeError\u001b[0m: 'tuple' object does not support item assignment"
     ]
    }
   ],
   "source": [
    "my_tuple[1] = 5"
   ]
  },
  {
   "cell_type": "markdown",
   "metadata": {},
   "source": [
    "### TASK #5\n",
    "#### Answer this question with a written response in this cell.\n",
    "Why would having an immutable datatype be useful?\n",
    "\n",
    "They cannot be corrupted. They're type and values are consistent so one can be sure that they will work with any methods written for them. Unexpected object types will not be added to the tuple. You can be sure that methods run using the tuple did not change them. "
   ]
  },
  {
   "cell_type": "markdown",
   "metadata": {},
   "source": [
    "You can also nest tuples within tuples... and you can mix datatypes!  Execute\n",
    "the cell below to see."
   ]
  },
  {
   "cell_type": "code",
   "execution_count": 26,
   "metadata": {},
   "outputs": [
    {
     "name": "stdout",
     "output_type": "stream",
     "text": [
      "((1, 2), (3, 4), ('a', 4))\n"
     ]
    }
   ],
   "source": [
    "my_nested_tuple = ((1, 2), (3, 4), ('a', 4))\n",
    "print(my_nested_tuple)"
   ]
  },
  {
   "cell_type": "markdown",
   "metadata": {},
   "source": [
    "How do you access items in nested tuples?  Execute the code cell below to see."
   ]
  },
  {
   "cell_type": "code",
   "execution_count": 28,
   "metadata": {},
   "outputs": [
    {
     "name": "stdout",
     "output_type": "stream",
     "text": [
      "('a', 4)\n",
      "a\n"
     ]
    }
   ],
   "source": [
    "print(my_nested_tuple[2])\n",
    "print(my_nested_tuple[2][0])"
   ]
  },
  {
   "cell_type": "markdown",
   "metadata": {},
   "source": [
    "### Lists\n",
    "Lists are like tuples, but mutable.  While _tuples_ are created and printed using parentheses (example:  `my_tuple = (1, 2, 3)`), _lists_ are created and printed using square brackets (example: `my_list = [1, 2, 3]`).  However, when accessing the contents, you enclose the index using `[]` for both tuples and lists.  Execute the code cell below and observe how an item of a list can be changed."
   ]
  },
  {
   "cell_type": "code",
   "execution_count": 68,
   "metadata": {},
   "outputs": [
    {
     "name": "stdout",
     "output_type": "stream",
     "text": [
      "<class 'list'>\n",
      "[1, 'a', 'hello', True]\n",
      "[1, 'a', 'goodbye', True]\n"
     ]
    }
   ],
   "source": [
    "my_list = [1, 'a', 'hello', True]\n",
    "print(type(my_list))\n",
    "print(my_list)\n",
    "my_list[2] = 'goodbye'\n",
    "print(my_list)"
   ]
  },
  {
   "cell_type": "markdown",
   "metadata": {},
   "source": [
    "Tuples and lists, like variables, have built-in methods since they are also\n",
    "objects!  Create a cell below and demonstrate what the list methods\n",
    "`.append()`, `.pop()`, `.count()`, `.reverse()` and `.sort()` perform.\n",
    "(Please feel free to explore all of them!  You will use these quite frequently\n",
    "this semester.)"
   ]
  },
  {
   "cell_type": "code",
   "execution_count": 69,
   "metadata": {},
   "outputs": [
    {
     "name": "stdout",
     "output_type": "stream",
     "text": [
      "[1, 'a', 'goodbye', True, 4.6]\n",
      "[1, 'a', 'goodbye', True]\n",
      "0\n",
      "None\n",
      "[1, 3, 4, 7]\n"
     ]
    }
   ],
   "source": [
    "my_list.append(4.6)\n",
    "print(my_list)\n",
    "my_list.pop()\n",
    "print(my_list)\n",
    "print(my_list.count(4.6))\n",
    "print(my_list.reverse())\n",
    "#print(my_list.sort())\n",
    "my_list2 = [1,4,3,7]\n",
    "my_list2.sort()\n",
    "print(my_list2)"
   ]
  },
  {
   "cell_type": "markdown",
   "metadata": {},
   "source": [
    "### TASK #6\n",
    "Assume you have the following data:\n",
    "<table>\n",
    "    <tr>\n",
    "        <th>Name</th>\n",
    "        <th>Patient ID</th>\n",
    "    </tr>\n",
    "    <tr>\n",
    "        <td>Ann Ables</td><td>12</td>\n",
    "    </tr>\n",
    "    <tr>\n",
    "        <td>Bob Boyles</td><td>25</td>\n",
    "    </tr>\n",
    "    <tr>\n",
    "        <td>Chris Chou</td><td>43</td>\n",
    "    </tr>\n",
    "</table>\n",
    "\n",
    "Create a new code cell below.  Using the `.append()` method, create a list variable and populate it with lists of the form `[name, id]`.  Then, show how you can access the patient id of Bob Boyles."
   ]
  },
  {
   "cell_type": "code",
   "execution_count": 85,
   "metadata": {},
   "outputs": [
    {
     "name": "stdout",
     "output_type": "stream",
     "text": [
      "25\n"
     ]
    }
   ],
   "source": [
    "patients = []\n",
    "patients.append(['Ann Ables', 12])\n",
    "patients.append(['Bob Boyles', 25])\n",
    "patients.append(['Chris Chou', 43])\n",
    "patientID = int\n",
    "for p in patients:\n",
    "    if p[0] == 'Bob Boyles':\n",
    "        patientID = p[1]\n",
    "print(patientID)"
   ]
  },
  {
   "cell_type": "markdown",
   "metadata": {},
   "source": [
    "__Check this out__: Strings can act like lists.  Look at the cell below.  What do you think will print?  Execute cell below to verify."
   ]
  },
  {
   "cell_type": "code",
   "execution_count": 70,
   "metadata": {},
   "outputs": [
    {
     "name": "stdout",
     "output_type": "stream",
     "text": [
      "d\n"
     ]
    }
   ],
   "source": [
    "x = \"abcdefghij\"\n",
    "print(x[3])"
   ]
  },
  {
   "cell_type": "markdown",
   "metadata": {},
   "source": [
    "## Loops\n",
    "### `for` loops\n",
    "Unlike MATLAB, which likes to iterate on a specified range of numbers, Python\n",
    "can directly iterate on the content of a tuple, list, etc.  This is what a\n",
    "MATLAB loop might look like:\n",
    "```\n",
    "my_array = (1, 2, 3, 4, 5);\n",
    "for i = 1:length(my_array),\n",
    "    disp(my_array(i));\n",
    "end\n",
    "```\n",
    "Python can more directly access the content of `my_array`; see this in action\n",
    "in the code below."
   ]
  },
  {
   "cell_type": "code",
   "execution_count": 71,
   "metadata": {},
   "outputs": [
    {
     "name": "stdout",
     "output_type": "stream",
     "text": [
      "1\n",
      "2\n",
      "3\n",
      "4\n",
      "5\n",
      "first\n",
      "second\n",
      "third\n"
     ]
    }
   ],
   "source": [
    "my_array = [1, 2, 3, 4, 5]  # note that lists in Python are created with []\n",
    "for i in my_array:  # the value of i is assigned iteratively from my_array\n",
    "    print(i)\n",
    "\n",
    "word_array = [\"first\", \"second\", \"third\"]\n",
    "for i in word_array:\n",
    "    print(i)"
   ]
  },
  {
   "cell_type": "markdown",
   "metadata": {},
   "source": [
    "Sometimes you want to carry along a numerical index that corresponds to which\n",
    "iteration you are on in the loop.  To do that, you can use the `enumerate`\n",
    "command:"
   ]
  },
  {
   "cell_type": "code",
   "execution_count": 72,
   "metadata": {},
   "outputs": [
    {
     "name": "stdout",
     "output_type": "stream",
     "text": [
      "The value is 1.\n",
      "The index is 0.\n",
      "The value is 2.\n",
      "The index is 1.\n",
      "The value is 3.\n",
      "The index is 2.\n",
      "The value is 4.\n",
      "The index is 3.\n",
      "The value is 5.\n",
      "The index is 4.\n"
     ]
    }
   ],
   "source": [
    "for n, i in enumerate(my_array):\n",
    "    print('The value is {}.'.format(i))\n",
    "    print('The index is {}.'.format(n))"
   ]
  },
  {
   "cell_type": "markdown",
   "metadata": {},
   "source": [
    "## Task #7\n",
    "\n",
    "Create a code cell below this one and write a loop that prints each letter of\n",
    "your first name on a single line.  For example:\n",
    "\n",
    "D\n",
    "\n",
    "a\n",
    "\n",
    "v\n",
    "\n",
    "i\n",
    "\n",
    "d\n"
   ]
  },
  {
   "cell_type": "code",
   "execution_count": 73,
   "metadata": {},
   "outputs": [
    {
     "name": "stdout",
     "output_type": "stream",
     "text": [
      "B\n",
      "r\n",
      "i\n",
      "t\n",
      "n\n",
      "e\n",
      "y\n"
     ]
    }
   ],
   "source": [
    "name = \"Britney\"\n",
    "for letter in name:\n",
    "    print(letter)"
   ]
  },
  {
   "cell_type": "markdown",
   "metadata": {},
   "source": [
    "## List Comprehensions\n",
    "\n",
    "List comprehensions are an elegant way that Python reduces some of the syntax\n",
    "for generating lists using loops.  Below is a simple example of one:"
   ]
  },
  {
   "cell_type": "code",
   "execution_count": 74,
   "metadata": {},
   "outputs": [
    {
     "data": {
      "text/plain": [
       "[1, 4, 9]"
      ]
     },
     "execution_count": 74,
     "metadata": {},
     "output_type": "execute_result"
    }
   ],
   "source": [
    "[x**2 for x in (1, 2, 3)]"
   ]
  },
  {
   "cell_type": "markdown",
   "metadata": {},
   "source": [
    "### TASK #8\n",
    "\n",
    "Given the list `parse_me` below, write a list comprehension that creates a new\n",
    "list of only the even numbers.  You will need to do some research on how to use\n",
    "conditionals in a list comprehension."
   ]
  },
  {
   "cell_type": "code",
   "execution_count": 75,
   "metadata": {
    "pycharm": {
     "name": "#%%\n"
    }
   },
   "outputs": [],
   "source": [
    "parse_me = [-5, 10, 3, 4, 22, 'a', None]"
   ]
  },
  {
   "cell_type": "code",
   "execution_count": 77,
   "metadata": {},
   "outputs": [
    {
     "name": "stdout",
     "output_type": "stream",
     "text": [
      "[10, 4, 22]\n"
     ]
    }
   ],
   "source": [
    "new_list = []\n",
    "for i in parse_me:\n",
    "    if type(i) == int:\n",
    "        if (i%2) == 0:\n",
    "            new_list.append(i)\n",
    "print(new_list)"
   ]
  }
 ],
 "metadata": {
  "kernelspec": {
   "display_name": "Python 3 (ipykernel)",
   "language": "python",
   "name": "python3"
  },
  "language_info": {
   "codemirror_mode": {
    "name": "ipython",
    "version": 3
   },
   "file_extension": ".py",
   "mimetype": "text/x-python",
   "name": "python",
   "nbconvert_exporter": "python",
   "pygments_lexer": "ipython3",
   "version": "3.7.11"
  }
 },
 "nbformat": 4,
 "nbformat_minor": 2
}
