{
 "cells": [
  {
   "cell_type": "code",
   "execution_count": null,
   "id": "4a6a61df",
   "metadata": {},
   "outputs": [],
   "source": [
    "x = 5\n",
    "a = x + 3\n",
    "print(x)\n"
   ]
  },
  {
   "cell_type": "markdown",
   "id": "e9bc4889",
   "metadata": {},
   "source": [
    "hello this is a markdown cell"
   ]
  }
 ],
 "metadata": {
  "kernelspec": {
   "display_name": "Python 3 (ipykernel)",
   "language": "python",
   "name": "python3"
  },
  "language_info": {
   "codemirror_mode": {
    "name": "ipython",
    "version": 3
   },
   "file_extension": ".py",
   "mimetype": "text/x-python",
   "name": "python",
   "nbconvert_exporter": "python",
   "pygments_lexer": "ipython3",
   "version": "3.7.11"
  }
 },
 "nbformat": 4,
 "nbformat_minor": 5
}
